{
 "cells": [
  {
   "cell_type": "code",
   "execution_count": 53,
   "metadata": {},
   "outputs": [],
   "source": [
    "from utils import Utils \n",
    "import pandas as pd\n",
    "utils=Utils()"
   ]
  },
  {
   "cell_type": "markdown",
   "metadata": {},
   "source": [
    "# POSICIONES POR PAISES"
   ]
  },
  {
   "cell_type": "markdown",
   "metadata": {},
   "source": [
    "## DF ORIGINAL"
   ]
  },
  {
   "cell_type": "code",
   "execution_count": 54,
   "metadata": {},
   "outputs": [],
   "source": [
    "year=1966\n",
    "df = utils.cargar_excel(f\"./World_cup_players/LINK_Datos_{year}.xlsx\")\n",
    "df2 = df.groupby(\"pais\")[\"Año\"].unique().reset_index()"
   ]
  },
  {
   "cell_type": "markdown",
   "metadata": {},
   "source": [
    "## DF_AUXILIAR_PAISES"
   ]
  },
  {
   "cell_type": "code",
   "execution_count": 55,
   "metadata": {},
   "outputs": [],
   "source": [
    "import pandas as pd\n",
    "# Lista de años\n",
    "years = [1966, 1970, 1974, 1986, 2014, 2018]\n",
    "\n",
    "# Lista para almacenar los DataFrames parciales\n",
    "df_list = []\n",
    "\n",
    "# Iterar sobre cada año y cargar los datos\n",
    "for year in years:\n",
    "    # Cargar el archivo Excel\n",
    "    df = utils.cargar_excel(f\"./World_cup_players/LINK_Datos_{year}.xlsx\")\n",
    "    \n",
    "    # Extraer los países y años únicos\n",
    "    df2 = df.groupby(\"pais\")[\"Año\"].unique().reset_index()\n",
    "    \n",
    "    # Expandir los valores únicos de \"Año\" en filas separadas\n",
    "    df2 = df2.explode(\"Año\")\n",
    "\n",
    "    # Agregar el DataFrame procesado a la lista\n",
    "    df_list.append(df2)\n",
    "\n",
    "# Concatenar todos los DataFrames en uno solo\n",
    "df_total = pd.concat(df_list, ignore_index=True)"
   ]
  },
  {
   "cell_type": "markdown",
   "metadata": {},
   "source": [
    "# DATA CON POSICIONES"
   ]
  },
  {
   "cell_type": "code",
   "execution_count": 56,
   "metadata": {},
   "outputs": [],
   "source": [
    "df_posicion = utils.cargar_excel(f\"./Aux_data_Wolrd_cup/Aux_pais_posiciones.xlsx\")\n"
   ]
  },
  {
   "cell_type": "code",
   "execution_count": 57,
   "metadata": {},
   "outputs": [],
   "source": [
    "import pandas as pd\n",
    "df_list = []\n",
    "\n",
    "# Iterar sobre cada año y cargar los datos\n",
    "for year in years:\n",
    "    df_players = utils.cargar_excel(f\"./World_cup_players/LINK_Datos_{year}.xlsx\")  # Cargar archivo Excel\n",
    "    df_posicion_and_data = utils.merge_dataframes(df_players, df_posicion, ['pais', 'Año'], ['País', 'Año'])  # Fusionar datos\n",
    "    df_list.append(df_posicion_and_data)  # Agregar el resultado a la lista\n",
    "\n",
    "# Concatenar todos los DataFrames en uno solo\n",
    "df_datos_with_possition = pd.concat(df_list, ignore_index=True)"
   ]
  },
  {
   "cell_type": "code",
   "execution_count": 58,
   "metadata": {},
   "outputs": [
    {
     "name": "stdout",
     "output_type": "stream",
     "text": [
      "Archivo guardado como: Football_Pyers_data.xlsx\n"
     ]
    }
   ],
   "source": [
    "utils.guardar_excel(df_datos_with_possition,f'Football_Pyers_data')"
   ]
  }
 ],
 "metadata": {
  "kernelspec": {
   "display_name": "venv",
   "language": "python",
   "name": "python3"
  },
  "language_info": {
   "codemirror_mode": {
    "name": "ipython",
    "version": 3
   },
   "file_extension": ".py",
   "mimetype": "text/x-python",
   "name": "python",
   "nbconvert_exporter": "python",
   "pygments_lexer": "ipython3",
   "version": "3.11.9"
  }
 },
 "nbformat": 4,
 "nbformat_minor": 2
}
