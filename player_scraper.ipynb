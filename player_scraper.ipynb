{
 "cells": [
  {
   "cell_type": "code",
   "execution_count": 1,
   "metadata": {},
   "outputs": [],
   "source": [
    "from utils import Utils \n",
    "utils=Utils()"
   ]
  },
  {
   "cell_type": "code",
   "execution_count": 2,
   "metadata": {},
   "outputs": [
    {
     "name": "stdout",
     "output_type": "stream",
     "text": [
      "Scrapeando datos del Mundial 1966...\n",
      "Scrapeando datos del Mundial 1970...\n",
      "Scrapeando datos del Mundial 1974...\n",
      "Scrapeando datos del Mundial 1986...\n",
      "Scrapeando datos del Mundial 1990...\n",
      "Scrapeando datos del Mundial 1994...\n",
      "Scrapeando datos del Mundial 1998...\n",
      "Scrapeando datos del Mundial 2002...\n",
      "Scrapeando datos del Mundial 2006...\n"
     ]
    }
   ],
   "source": [
    "\n",
    "from utils import Utils\n",
    "import pandas as pd\n",
    "\n",
    "# Crear instancia de la clase Utils\n",
    "utils = Utils()\n",
    "\n",
    "# Lista de años de los Mundiales desde 1966 hasta 2006\n",
    "mundial_year=[1966, 1970, 1974,  1986, 1990, 1994, 1998, 2002, 2006]\n",
    "\n",
    "# Lista para almacenar todos los DataFrames por año\n",
    "df_total = []\n",
    "\n",
    "# Iterar sobre cada año del Mundial\n",
    "for year in mundial_year:\n",
    "    print(f\"Scrapeando datos del Mundial {year}...\")  # Mensaje de progreso\n",
    "    \n",
    "    # Construir el link dinámicamente\n",
    "    link = f'https://es.wikipedia.org/wiki/Equipos_participantes_en_la_Copa_Mundial_de_F%C3%BAtbol_de_{year}'\n",
    "    \n",
    "    # Extraer los datos de la página\n",
    "    jugadores_por_equipo, posiciones_por_equipo, edades_por_equipo, partidos_por_equipo, clubes_por_equipo = utils.ft_players_scrapping(link)\n",
    "    \n",
    "    # Convertir los diccionarios en DataFrames\n",
    "    df_jugadores = utils.dict_converter(jugadores_por_equipo, 'pais', 'Nombre_jugador')\n",
    "    df_posiciones = utils.dict_converter(posiciones_por_equipo, 'pais', 'Posicion')\n",
    "    df_edad = utils.dict_converter(edades_por_equipo, 'pais', 'Edad')\n",
    "    df_partidos = utils.dict_converter(partidos_por_equipo, 'pais', 'Partidos_jugados')\n",
    "    df_clubes = utils.dict_converter(clubes_por_equipo, 'pais', 'Club')\n",
    "\n",
    "    # Fusionar en un solo DataFrame\n",
    "    df_list = [df_jugadores, df_posiciones, df_edad, df_partidos, df_clubes]\n",
    "    df_final = utils.merge_multiple_dataframes(df_list)\n",
    "    \n",
    "    # Agregar la columna \"Año\" con el valor correspondiente\n",
    "    df_final[\"Año\"] = year\n",
    "\n",
    "    # Almacenar el DataFrame en la lista\n",
    "    df_total.append(df_final)\n",
    "\n",
    "# Concatenar todos los DataFrames en un solo DataFrame final\n",
    "df_super_base = pd.concat(df_total, ignore_index=True)"
   ]
  },
  {
   "cell_type": "code",
   "execution_count": 3,
   "metadata": {},
   "outputs": [],
   "source": [
    "import pandas as pd\n",
    "\n",
    "# Datos de los campeones del Mundial desde 1966\n",
    "mundial_campeones = {\n",
    "    1966: \"Inglaterra\",\n",
    "    1970: \"Brasil\",\n",
    "    1974: \"Alemania Occidental\",\n",
    "    1978: \"Argentina\",\n",
    "    1982: \"Italia\",\n",
    "    1986: \"Argentina\",\n",
    "    1990: \"Alemania Occidental\",\n",
    "    1994: \"Brasil\",\n",
    "    1998: \"Francia\",\n",
    "    2002: \"Brasil\",\n",
    "    2006: \"Italia\",\n",
    "    2010: \"España\",\n",
    "    2014: \"Alemania\",\n",
    "    2018: \"Francia\",\n",
    "    2022: \"Argentina\"\n",
    "}\n",
    "\n",
    "# Crear el DataFrame\n",
    "df_mundial = pd.DataFrame(list(mundial_campeones.items()), columns=[\"Año\", \"Campeón\"])\n"
   ]
  },
  {
   "cell_type": "code",
   "execution_count": 4,
   "metadata": {},
   "outputs": [],
   "source": [
    "df_resultante = utils.merge_dataframes(df_super_base, df_mundial, 'Año', 'Año')\n",
    "df_resultante = utils.add_comparison_column(df_resultante, 'pais', 'Campeón')"
   ]
  },
  {
   "cell_type": "code",
   "execution_count": 5,
   "metadata": {},
   "outputs": [
    {
     "data": {
      "text/plain": [
       "Index(['pais', 'Nombre_jugador', 'Posicion', 'Edad', 'Partidos_jugados',\n",
       "       'Club', 'Año', 'Campeón', 'pais_AND_Campeón'],\n",
       "      dtype='object')"
      ]
     },
     "execution_count": 5,
     "metadata": {},
     "output_type": "execute_result"
    }
   ],
   "source": [
    "df_resultante.columns"
   ]
  },
  {
   "cell_type": "code",
   "execution_count": 6,
   "metadata": {},
   "outputs": [
    {
     "name": "stdout",
     "output_type": "stream",
     "text": [
      "Archivo guardado como: Mundial_Historic_players.xlsx\n"
     ]
    }
   ],
   "source": [
    "utils.guardar_excel(df_resultante,'Mundial_Historic_players')"
   ]
  }
 ],
 "metadata": {
  "kernelspec": {
   "display_name": "venv",
   "language": "python",
   "name": "python3"
  },
  "language_info": {
   "codemirror_mode": {
    "name": "ipython",
    "version": 3
   },
   "file_extension": ".py",
   "mimetype": "text/x-python",
   "name": "python",
   "nbconvert_exporter": "python",
   "pygments_lexer": "ipython3",
   "version": "3.11.9"
  }
 },
 "nbformat": 4,
 "nbformat_minor": 2
}
