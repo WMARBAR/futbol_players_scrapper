{
 "cells": [
  {
   "cell_type": "code",
   "execution_count": 38,
   "metadata": {},
   "outputs": [],
   "source": [
    "from utils import Utils \n",
    "import pandas as pd\n",
    "utils=Utils()"
   ]
  },
  {
   "cell_type": "markdown",
   "metadata": {},
   "source": [
    "# BASE PLAYER_SCRAPER"
   ]
  },
  {
   "cell_type": "code",
   "execution_count": 39,
   "metadata": {},
   "outputs": [],
   "source": [
    "df = utils.cargar_excel(\"Mundial_Historic_players.xlsx\")"
   ]
  },
  {
   "cell_type": "code",
   "execution_count": 40,
   "metadata": {},
   "outputs": [
    {
     "data": {
      "text/plain": [
       "array([1966, 1970, 1974, 1986, 1990, 1994, 1998, 2002, 2006, 2014, 2018])"
      ]
     },
     "execution_count": 40,
     "metadata": {},
     "output_type": "execute_result"
    }
   ],
   "source": [
    "df['Año'].unique()"
   ]
  },
  {
   "cell_type": "code",
   "execution_count": 41,
   "metadata": {},
   "outputs": [],
   "source": [
    "year=2018\n",
    "df_filtrado=utils.filtrar_dataframe(df,'Año',year)"
   ]
  },
  {
   "cell_type": "code",
   "execution_count": 42,
   "metadata": {},
   "outputs": [],
   "source": [
    "import pandas as pd\n",
    "from selenium import webdriver\n",
    "from selenium.webdriver.common.by import By\n",
    "from selenium.webdriver.support.ui import WebDriverWait\n",
    "from selenium.webdriver.support import expected_conditions as EC\n",
    "import time\n",
    "from bs4 import BeautifulSoup\n",
    "\n",
    "def buscar_wikipedia_jugadores(df):\n",
    "    \"\"\"\n",
    "    Busca en DuckDuckGo los nombres de los jugadores y obtiene su enlace de Wikipedia si existe.\n",
    "\n",
    "    Parámetros:\n",
    "    df (pd.DataFrame): DataFrame con la columna 'Nombre_jugador'.\n",
    "\n",
    "    Retorna:\n",
    "    pd.DataFrame: DataFrame original con una columna adicional 'wiki_link'.\n",
    "    \"\"\"\n",
    "    # Configuración del WebDriver\n",
    "    driver = webdriver.Chrome()\n",
    "    wait = WebDriverWait(driver, 10)\n",
    "\n",
    "    wiki_links = []  # Lista para almacenar los enlaces\n",
    "\n",
    "    for nombre in df[\"Nombre_jugador\"]:\n",
    "        try:\n",
    "            # Buscar en DuckDuckGo\n",
    "            query = f\"{nombre} futbolista site:wikipedia.org\"\n",
    "            url_busqueda = f\"https://www.duckduckgo.com/?q={query.replace(' ', '+')}\"\n",
    "            driver.get(url_busqueda)\n",
    "            \n",
    "            # Esperar a que se cargue la página\n",
    "            time.sleep(2)\n",
    "            soup = BeautifulSoup(driver.page_source, \"html.parser\")\n",
    "\n",
    "            # Buscar el primer enlace de Wikipedia en los resultados\n",
    "            link_wiki = None\n",
    "            for enlace in soup.find_all(\"a\", href=True):\n",
    "                href = enlace[\"href\"]\n",
    "                if \"wikipedia.org/wiki/\" in href:\n",
    "                    link_wiki = href\n",
    "                    break\n",
    "\n",
    "            # Agregar el resultado\n",
    "            wiki_links.append(link_wiki if link_wiki else \"No encontrado\")\n",
    "\n",
    "        except Exception as e:\n",
    "            print(f\"Error con {nombre}: {e}\")\n",
    "            wiki_links.append(\"Error\")\n",
    "\n",
    "    # Cerrar el navegador\n",
    "    driver.quit()\n",
    "\n",
    "    # Agregar los enlaces al DataFrame original\n",
    "    df[\"wiki_link\"] = wiki_links\n",
    "    \n",
    "    return df\n"
   ]
  },
  {
   "cell_type": "code",
   "execution_count": null,
   "metadata": {},
   "outputs": [],
   "source": [
    "df_links_names=buscar_wikipedia_jugadores(df_filtrado)"
   ]
  },
  {
   "cell_type": "code",
   "execution_count": null,
   "metadata": {},
   "outputs": [
    {
     "name": "stdout",
     "output_type": "stream",
     "text": [
      "Archivo guardado como: LINK_PLAYERS_1990.xlsx\n"
     ]
    }
   ],
   "source": [
    "utils.guardar_excel(df_links_names,f'LINK_PLAYERS_{year}')"
   ]
  }
 ],
 "metadata": {
  "kernelspec": {
   "display_name": "venv",
   "language": "python",
   "name": "python3"
  },
  "language_info": {
   "codemirror_mode": {
    "name": "ipython",
    "version": 3
   },
   "file_extension": ".py",
   "mimetype": "text/x-python",
   "name": "python",
   "nbconvert_exporter": "python",
   "pygments_lexer": "ipython3",
   "version": "3.11.9"
  }
 },
 "nbformat": 4,
 "nbformat_minor": 2
}
